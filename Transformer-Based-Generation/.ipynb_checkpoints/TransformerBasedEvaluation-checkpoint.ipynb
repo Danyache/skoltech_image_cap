{
 "cells": [
  {
   "cell_type": "code",
   "execution_count": 1,
   "metadata": {},
   "outputs": [],
   "source": [
    "from score2 import evalscores"
   ]
  },
  {
   "cell_type": "code",
   "execution_count": 4,
   "metadata": {},
   "outputs": [],
   "source": [
    "import os\n",
    "# os.environ[\"CUDA_DEVICE_ORDER\"]=\"PCI_BUS_ID\"\n",
    "os.environ[\"CUDA_VISIBLE_DEVICES\"]=\"2\"\n",
    "# os.environ[\"CUDA_LAUNCH_BLOCKING\"]=\"1\"\n",
    "import torch\n",
    "import torch.nn.functional as F\n",
    "import numpy as np\n",
    "import json\n",
    "import torchvision.transforms as transforms\n",
    "import matplotlib.pyplot as plt\n",
    "import matplotlib.cm as cm\n",
    "import skimage.transform\n",
    "import argparse\n",
    "from scipy.misc import imread, imresize\n",
    "from PIL import Image\n",
    "import pandas as pd\n",
    "from tqdm import tqdm\n",
    "import json\n",
    "from pathlib import Path"
   ]
  },
  {
   "cell_type": "code",
   "execution_count": 5,
   "metadata": {},
   "outputs": [
    {
     "data": {
      "text/html": [
       "<div>\n",
       "<style scoped>\n",
       "    .dataframe tbody tr th:only-of-type {\n",
       "        vertical-align: middle;\n",
       "    }\n",
       "\n",
       "    .dataframe tbody tr th {\n",
       "        vertical-align: top;\n",
       "    }\n",
       "\n",
       "    .dataframe thead th {\n",
       "        text-align: right;\n",
       "    }\n",
       "</style>\n",
       "<table border=\"1\" class=\"dataframe\">\n",
       "  <thead>\n",
       "    <tr style=\"text-align: right;\">\n",
       "      <th></th>\n",
       "      <th>images</th>\n",
       "      <th>FINDINGS</th>\n",
       "      <th>IMPRESSION</th>\n",
       "      <th>tags_major</th>\n",
       "      <th>tags_automatic</th>\n",
       "      <th>report</th>\n",
       "      <th>full_report</th>\n",
       "      <th>processed_captions</th>\n",
       "      <th>processed_findings</th>\n",
       "      <th>preprocessed_full_report</th>\n",
       "    </tr>\n",
       "  </thead>\n",
       "  <tbody>\n",
       "    <tr>\n",
       "      <th>0</th>\n",
       "      <td>CXR2357_IM-0921-1001</td>\n",
       "      <td>Cardiomediastinal silhouette and pulmonary vas...</td>\n",
       "      <td>No acute cardiopulmonary findings.</td>\n",
       "      <td>[normal]</td>\n",
       "      <td>[]</td>\n",
       "      <td>./reports/ecgen-radiology/2357.xml</td>\n",
       "      <td>No acute cardiopulmonary findings. Cardiomedia...</td>\n",
       "      <td>[no acute cardiopulmonary findings, cardiomedi...</td>\n",
       "      <td>[cardiomediastinal silhouette and pulmonary va...</td>\n",
       "      <td>no acute cardiopulmonary findings . cardiomedi...</td>\n",
       "    </tr>\n",
       "    <tr>\n",
       "      <th>1</th>\n",
       "      <td>CXR2357_IM-0921-2001</td>\n",
       "      <td>Cardiomediastinal silhouette and pulmonary vas...</td>\n",
       "      <td>No acute cardiopulmonary findings.</td>\n",
       "      <td>[normal]</td>\n",
       "      <td>[]</td>\n",
       "      <td>./reports/ecgen-radiology/2357.xml</td>\n",
       "      <td>No acute cardiopulmonary findings. Cardiomedia...</td>\n",
       "      <td>[no acute cardiopulmonary findings, cardiomedi...</td>\n",
       "      <td>[cardiomediastinal silhouette and pulmonary va...</td>\n",
       "      <td>no acute cardiopulmonary findings . cardiomedi...</td>\n",
       "    </tr>\n",
       "  </tbody>\n",
       "</table>\n",
       "</div>"
      ],
      "text/plain": [
       "                 images                                           FINDINGS  \\\n",
       "0  CXR2357_IM-0921-1001  Cardiomediastinal silhouette and pulmonary vas...   \n",
       "1  CXR2357_IM-0921-2001  Cardiomediastinal silhouette and pulmonary vas...   \n",
       "\n",
       "                           IMPRESSION tags_major tags_automatic  \\\n",
       "0  No acute cardiopulmonary findings.   [normal]             []   \n",
       "1  No acute cardiopulmonary findings.   [normal]             []   \n",
       "\n",
       "                               report  \\\n",
       "0  ./reports/ecgen-radiology/2357.xml   \n",
       "1  ./reports/ecgen-radiology/2357.xml   \n",
       "\n",
       "                                         full_report  \\\n",
       "0  No acute cardiopulmonary findings. Cardiomedia...   \n",
       "1  No acute cardiopulmonary findings. Cardiomedia...   \n",
       "\n",
       "                                  processed_captions  \\\n",
       "0  [no acute cardiopulmonary findings, cardiomedi...   \n",
       "1  [no acute cardiopulmonary findings, cardiomedi...   \n",
       "\n",
       "                                  processed_findings  \\\n",
       "0  [cardiomediastinal silhouette and pulmonary va...   \n",
       "1  [cardiomediastinal silhouette and pulmonary va...   \n",
       "\n",
       "                            preprocessed_full_report  \n",
       "0  no acute cardiopulmonary findings . cardiomedi...  \n",
       "1  no acute cardiopulmonary findings . cardiomedi...  "
      ]
     },
     "execution_count": 5,
     "metadata": {},
     "output_type": "execute_result"
    }
   ],
   "source": [
    "curr_path = Path(os.getcwd())\n",
    "\n",
    "all_reports_df = pd.read_pickle(os.path.join(str(curr_path.parent), 'NLMCXR_data/all_reports_tags_df.pkl'))\n",
    "\n",
    "all_reports_df.head(2)"
   ]
  },
  {
   "cell_type": "code",
   "execution_count": 6,
   "metadata": {},
   "outputs": [],
   "source": [
    "# test_df = all_reports_df[-300:]\n",
    "# test_df = all_reports_df[-300:]\n",
    "    \n",
    "max_len = 100\n",
    "\n",
    "# test_image_captions = [[sents.replace('.', ' ').split()][:max_len] for sents in test_df['preprocessed_full_report']]"
   ]
  },
  {
   "cell_type": "code",
   "execution_count": 7,
   "metadata": {},
   "outputs": [
    {
     "ename": "FileNotFoundError",
     "evalue": "[Errno 2] No such file or directory: 'output_cxr/test-predictions-2105.json'",
     "output_type": "error",
     "traceback": [
      "\u001b[0;31m---------------------------------------------------------------------------\u001b[0m",
      "\u001b[0;31mFileNotFoundError\u001b[0m                         Traceback (most recent call last)",
      "\u001b[0;32m<ipython-input-7-6bae3c4e9288>\u001b[0m in \u001b[0;36m<module>\u001b[0;34m\u001b[0m\n\u001b[0;32m----> 1\u001b[0;31m \u001b[0;32mwith\u001b[0m \u001b[0mopen\u001b[0m\u001b[0;34m(\u001b[0m\u001b[0;34m'output_cxr/test-predictions-2105.json'\u001b[0m\u001b[0;34m)\u001b[0m \u001b[0;32mas\u001b[0m \u001b[0mf\u001b[0m\u001b[0;34m:\u001b[0m\u001b[0;34m\u001b[0m\u001b[0;34m\u001b[0m\u001b[0m\n\u001b[0m\u001b[1;32m      2\u001b[0m     \u001b[0md\u001b[0m \u001b[0;34m=\u001b[0m \u001b[0mjson\u001b[0m\u001b[0;34m.\u001b[0m\u001b[0mload\u001b[0m\u001b[0;34m(\u001b[0m\u001b[0mf\u001b[0m\u001b[0;34m)\u001b[0m\u001b[0;34m\u001b[0m\u001b[0;34m\u001b[0m\u001b[0m\n",
      "\u001b[0;31mFileNotFoundError\u001b[0m: [Errno 2] No such file or directory: 'output_cxr/test-predictions-2105.json'"
     ]
    }
   ],
   "source": [
    "with open('output_cxr/test-predictions-2105.json') as f:\n",
    "    d = json.load(f)"
   ]
  },
  {
   "cell_type": "code",
   "execution_count": 21,
   "metadata": {},
   "outputs": [],
   "source": [
    "test_ids = []\n",
    "captions = []\n",
    "\n",
    "for pred in d:\n",
    "    test_ids.append(pred['image_id'])\n",
    "    captions.append(pred['caption'])"
   ]
  },
  {
   "cell_type": "code",
   "execution_count": 23,
   "metadata": {},
   "outputs": [],
   "source": [
    "test_predicts = [cap.split() for cap in captions]"
   ]
  },
  {
   "cell_type": "code",
   "execution_count": 30,
   "metadata": {},
   "outputs": [],
   "source": [
    "test_df = all_reports_df[ all_reports_df.images.isin(test_ids) ]"
   ]
  },
  {
   "cell_type": "code",
   "execution_count": 31,
   "metadata": {},
   "outputs": [],
   "source": [
    "test_image_captions = [[sents.replace('.', ' ').split()][:max_len] for sents in test_df['preprocessed_full_report']]"
   ]
  },
  {
   "cell_type": "code",
   "execution_count": null,
   "metadata": {},
   "outputs": [],
   "source": [
    "assert len(test_image_captions)"
   ]
  },
  {
   "cell_type": "code",
   "execution_count": null,
   "metadata": {},
   "outputs": [],
   "source": [
    "test_predicts = [words[1:-1] for words in test_predicts]\n",
    "\n",
    "evalscores(test_predicts, test_image_captions)"
   ]
  },
  {
   "cell_type": "code",
   "execution_count": null,
   "metadata": {},
   "outputs": [],
   "source": [
    "test_predicts = []\n",
    "test_images = test_df.images.values\n",
    "\n",
    "from tqdm import tqdm\n",
    "\n",
    "for img_name in tqdm(test_images):\n",
    "    words = get_print(img_name, visualize=False, print_res=False)\n",
    "    test_predicts.append(words)"
   ]
  },
  {
   "cell_type": "code",
   "execution_count": null,
   "metadata": {},
   "outputs": [],
   "source": []
  },
  {
   "cell_type": "code",
   "execution_count": null,
   "metadata": {},
   "outputs": [],
   "source": []
  },
  {
   "cell_type": "code",
   "execution_count": null,
   "metadata": {},
   "outputs": [],
   "source": []
  },
  {
   "cell_type": "code",
   "execution_count": null,
   "metadata": {},
   "outputs": [],
   "source": []
  },
  {
   "cell_type": "code",
   "execution_count": null,
   "metadata": {},
   "outputs": [],
   "source": []
  },
  {
   "cell_type": "code",
   "execution_count": null,
   "metadata": {},
   "outputs": [],
   "source": []
  },
  {
   "cell_type": "code",
   "execution_count": null,
   "metadata": {},
   "outputs": [],
   "source": []
  }
 ],
 "metadata": {
  "kernelspec": {
   "display_name": "Python 3",
   "language": "python",
   "name": "python3"
  },
  "language_info": {
   "codemirror_mode": {
    "name": "ipython",
    "version": 3
   },
   "file_extension": ".py",
   "mimetype": "text/x-python",
   "name": "python",
   "nbconvert_exporter": "python",
   "pygments_lexer": "ipython3",
   "version": "3.7.1"
  }
 },
 "nbformat": 4,
 "nbformat_minor": 2
}
